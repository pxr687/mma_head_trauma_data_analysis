{
 "cells": [
  {
   "cell_type": "markdown",
   "id": "180af2c4",
   "metadata": {},
   "source": [
    "## Mixed martial arts and head trauma\n",
    "\n",
    "In this notebook, we'll go through how to get a dataset from the internet, clean the data so it can be analysed, and then begin analysing it to investigate a question. This is not a complete analysis, but is shows the first steps involved in data analysis.\n",
    "\n",
    "### Context\n",
    "\n",
    "Mixed martial arts (MMA) is a combat sport that allows strikes to the head in the form of punches, elbow strikes, knee strikes and kicks. In their review, Schlegel et al (2021) report that the estimated incidence of head trauma is between 58% and 78% of all injuries in the sport. \n",
    "\n",
    "Further, Schlegel et al (2021) report that MMA fighters exhibit impaired processing speed, verbal memory and psychomotor speed, presumably as a result of repeated blows to the head, concussions and/or resultant loss of consciousness. In fact, multiple medical societies have called for mixed martial arts (MMA) to be banned, due to the inherent risk of serious acute injury, and of chronic traumatic encephalopathy (Schlegel et al, 2021). \n",
    "\n",
    "Let's say I'm interested in the following question: \n",
    "\n",
    "> <i> 'Is mixed martial arts more dangerous, with regard to serious head trauma, for males or females?' </i>\n",
    "\n",
    "To investigate this I can use the dataset hosted at: https://www.kaggle.com/mdabbert/ultimate-ufc-dataset\n",
    "\n",
    "I've downloaded the `ufc-master.csv` file, for which the 'About this file' section states:\n",
    "\n",
    "> 'A combination of multiple UFC datasets. Includes every UFC fight from mid 2010 until the present. Rows refer to individual bouts. Columns offer features of the fighters and the fight itself.'\n",
    "\n",
    "This .csv file contains data from all the fights since 2010 in a specific MMA organization. I have downloaded and unzipped the data file, and moved it into my working directory. In order to import it using just it's file name, the file must be in the working directory of jupyter notebook, or your Deepnote notebook, see: https://stackoverflow.com/questions/15680463/change-ipython-jupyter-notebook-working-directory\n",
    "\n",
    "<i> Hint: </i> you can use the command `pwd` to see what your working directory is currently (see the cell below). You can change the working directory using the command `cd` (for 'change directory') followed by the path of the directory you want to use as the working directory. E.g. `cd \"C:\\Users\\username\\Desktop\"`."
   ]
  },
  {
   "cell_type": "code",
   "execution_count": 1,
   "id": "797aeee2",
   "metadata": {},
   "outputs": [
    {
     "data": {
      "text/plain": [
       "'C:\\\\Users\\\\peter'"
      ]
     },
     "execution_count": 1,
     "metadata": {},
     "output_type": "execute_result"
    }
   ],
   "source": [
    "pwd"
   ]
  },
  {
   "cell_type": "markdown",
   "id": "6368d095",
   "metadata": {},
   "source": [
    "To have a look at the dataset, I import it in the following way:"
   ]
  },
  {
   "cell_type": "code",
   "execution_count": 2,
   "id": "chubby-first",
   "metadata": {
    "scrolled": false
   },
   "outputs": [
    {
     "name": "stderr",
     "output_type": "stream",
     "text": [
      "C:\\ProgramData\\Anaconda3\\lib\\site-packages\\IPython\\core\\interactiveshell.py:3173: DtypeWarning: Columns (79,80) have mixed types.Specify dtype option on import or set low_memory=False.\n",
      "  interactivity=interactivity, compiler=compiler, result=result)\n"
     ]
    },
    {
     "data": {
      "text/html": [
       "<div>\n",
       "<style scoped>\n",
       "    .dataframe tbody tr th:only-of-type {\n",
       "        vertical-align: middle;\n",
       "    }\n",
       "\n",
       "    .dataframe tbody tr th {\n",
       "        vertical-align: top;\n",
       "    }\n",
       "\n",
       "    .dataframe thead th {\n",
       "        text-align: right;\n",
       "    }\n",
       "</style>\n",
       "<table border=\"1\" class=\"dataframe\">\n",
       "  <thead>\n",
       "    <tr style=\"text-align: right;\">\n",
       "      <th></th>\n",
       "      <th>R_fighter</th>\n",
       "      <th>B_fighter</th>\n",
       "      <th>R_odds</th>\n",
       "      <th>B_odds</th>\n",
       "      <th>R_ev</th>\n",
       "      <th>B_ev</th>\n",
       "      <th>date</th>\n",
       "      <th>location</th>\n",
       "      <th>country</th>\n",
       "      <th>Winner</th>\n",
       "      <th>...</th>\n",
       "      <th>R_td_attempted_bout</th>\n",
       "      <th>B_td_attempted_bout</th>\n",
       "      <th>R_td_pct_bout</th>\n",
       "      <th>B_td_pct_bout</th>\n",
       "      <th>R_sub_attempts_bout</th>\n",
       "      <th>B_sub_attempts_bout</th>\n",
       "      <th>R_pass_bout</th>\n",
       "      <th>B_pass_bout</th>\n",
       "      <th>R_rev_bout</th>\n",
       "      <th>B_rev_bout</th>\n",
       "    </tr>\n",
       "  </thead>\n",
       "  <tbody>\n",
       "    <tr>\n",
       "      <th>0</th>\n",
       "      <td>Alistair Overeem</td>\n",
       "      <td>Alexander Volkov</td>\n",
       "      <td>150</td>\n",
       "      <td>-182</td>\n",
       "      <td>150.000000</td>\n",
       "      <td>54.945055</td>\n",
       "      <td>2/6/2021</td>\n",
       "      <td>Las Vegas, Nevada, USA</td>\n",
       "      <td>USA</td>\n",
       "      <td>Blue</td>\n",
       "      <td>...</td>\n",
       "      <td>NaN</td>\n",
       "      <td>NaN</td>\n",
       "      <td>NaN</td>\n",
       "      <td>NaN</td>\n",
       "      <td>NaN</td>\n",
       "      <td>NaN</td>\n",
       "      <td>NaN</td>\n",
       "      <td>NaN</td>\n",
       "      <td>NaN</td>\n",
       "      <td>NaN</td>\n",
       "    </tr>\n",
       "    <tr>\n",
       "      <th>1</th>\n",
       "      <td>Cory Sandhagen</td>\n",
       "      <td>Frankie Edgar</td>\n",
       "      <td>-400</td>\n",
       "      <td>300</td>\n",
       "      <td>25.000000</td>\n",
       "      <td>300.000000</td>\n",
       "      <td>2/6/2021</td>\n",
       "      <td>Las Vegas, Nevada, USA</td>\n",
       "      <td>USA</td>\n",
       "      <td>Red</td>\n",
       "      <td>...</td>\n",
       "      <td>NaN</td>\n",
       "      <td>NaN</td>\n",
       "      <td>NaN</td>\n",
       "      <td>NaN</td>\n",
       "      <td>NaN</td>\n",
       "      <td>NaN</td>\n",
       "      <td>NaN</td>\n",
       "      <td>NaN</td>\n",
       "      <td>NaN</td>\n",
       "      <td>NaN</td>\n",
       "    </tr>\n",
       "    <tr>\n",
       "      <th>2</th>\n",
       "      <td>Alexandre Pantoja</td>\n",
       "      <td>Manel Kape</td>\n",
       "      <td>-125</td>\n",
       "      <td>100</td>\n",
       "      <td>80.000000</td>\n",
       "      <td>100.000000</td>\n",
       "      <td>2/6/2021</td>\n",
       "      <td>Las Vegas, Nevada, USA</td>\n",
       "      <td>USA</td>\n",
       "      <td>Red</td>\n",
       "      <td>...</td>\n",
       "      <td>NaN</td>\n",
       "      <td>NaN</td>\n",
       "      <td>NaN</td>\n",
       "      <td>NaN</td>\n",
       "      <td>NaN</td>\n",
       "      <td>NaN</td>\n",
       "      <td>NaN</td>\n",
       "      <td>NaN</td>\n",
       "      <td>NaN</td>\n",
       "      <td>NaN</td>\n",
       "    </tr>\n",
       "    <tr>\n",
       "      <th>3</th>\n",
       "      <td>Diego Ferreira</td>\n",
       "      <td>Beneil Dariush</td>\n",
       "      <td>-125</td>\n",
       "      <td>105</td>\n",
       "      <td>80.000000</td>\n",
       "      <td>105.000000</td>\n",
       "      <td>2/6/2021</td>\n",
       "      <td>Las Vegas, Nevada, USA</td>\n",
       "      <td>USA</td>\n",
       "      <td>Blue</td>\n",
       "      <td>...</td>\n",
       "      <td>NaN</td>\n",
       "      <td>NaN</td>\n",
       "      <td>NaN</td>\n",
       "      <td>NaN</td>\n",
       "      <td>NaN</td>\n",
       "      <td>NaN</td>\n",
       "      <td>NaN</td>\n",
       "      <td>NaN</td>\n",
       "      <td>NaN</td>\n",
       "      <td>NaN</td>\n",
       "    </tr>\n",
       "    <tr>\n",
       "      <th>4</th>\n",
       "      <td>Michael Johnson</td>\n",
       "      <td>Clay Guida</td>\n",
       "      <td>-225</td>\n",
       "      <td>175</td>\n",
       "      <td>44.444444</td>\n",
       "      <td>175.000000</td>\n",
       "      <td>2/6/2021</td>\n",
       "      <td>Las Vegas, Nevada, USA</td>\n",
       "      <td>USA</td>\n",
       "      <td>Blue</td>\n",
       "      <td>...</td>\n",
       "      <td>NaN</td>\n",
       "      <td>NaN</td>\n",
       "      <td>NaN</td>\n",
       "      <td>NaN</td>\n",
       "      <td>NaN</td>\n",
       "      <td>NaN</td>\n",
       "      <td>NaN</td>\n",
       "      <td>NaN</td>\n",
       "      <td>NaN</td>\n",
       "      <td>NaN</td>\n",
       "    </tr>\n",
       "  </tbody>\n",
       "</table>\n",
       "<p>5 rows × 137 columns</p>\n",
       "</div>"
      ],
      "text/plain": [
       "           R_fighter         B_fighter  R_odds  B_odds        R_ev  \\\n",
       "0   Alistair Overeem  Alexander Volkov     150    -182  150.000000   \n",
       "1     Cory Sandhagen     Frankie Edgar    -400     300   25.000000   \n",
       "2  Alexandre Pantoja        Manel Kape    -125     100   80.000000   \n",
       "3     Diego Ferreira    Beneil Dariush    -125     105   80.000000   \n",
       "4    Michael Johnson        Clay Guida    -225     175   44.444444   \n",
       "\n",
       "         B_ev      date                location country Winner  ...  \\\n",
       "0   54.945055  2/6/2021  Las Vegas, Nevada, USA     USA   Blue  ...   \n",
       "1  300.000000  2/6/2021  Las Vegas, Nevada, USA     USA    Red  ...   \n",
       "2  100.000000  2/6/2021  Las Vegas, Nevada, USA     USA    Red  ...   \n",
       "3  105.000000  2/6/2021  Las Vegas, Nevada, USA     USA   Blue  ...   \n",
       "4  175.000000  2/6/2021  Las Vegas, Nevada, USA     USA   Blue  ...   \n",
       "\n",
       "   R_td_attempted_bout B_td_attempted_bout R_td_pct_bout  B_td_pct_bout  \\\n",
       "0                  NaN                 NaN           NaN            NaN   \n",
       "1                  NaN                 NaN           NaN            NaN   \n",
       "2                  NaN                 NaN           NaN            NaN   \n",
       "3                  NaN                 NaN           NaN            NaN   \n",
       "4                  NaN                 NaN           NaN            NaN   \n",
       "\n",
       "   R_sub_attempts_bout  B_sub_attempts_bout  R_pass_bout  B_pass_bout  \\\n",
       "0                  NaN                  NaN          NaN          NaN   \n",
       "1                  NaN                  NaN          NaN          NaN   \n",
       "2                  NaN                  NaN          NaN          NaN   \n",
       "3                  NaN                  NaN          NaN          NaN   \n",
       "4                  NaN                  NaN          NaN          NaN   \n",
       "\n",
       "   R_rev_bout  B_rev_bout  \n",
       "0         NaN         NaN  \n",
       "1         NaN         NaN  \n",
       "2         NaN         NaN  \n",
       "3         NaN         NaN  \n",
       "4         NaN         NaN  \n",
       "\n",
       "[5 rows x 137 columns]"
      ]
     },
     "execution_count": 2,
     "metadata": {},
     "output_type": "execute_result"
    }
   ],
   "source": [
    "# importing the libraries I will need\n",
    "import pandas as pd\n",
    "import numpy as np\n",
    "import matplotlib.pyplot as plt\n",
    "\n",
    "# importing the data\n",
    "df_orig = pd.read_csv('ufc-master.csv')\n",
    "\n",
    "# show the first 5 rows\n",
    "df_orig.head(5)"
   ]
  },
  {
   "cell_type": "markdown",
   "id": "0bf1a8f8",
   "metadata": {},
   "source": [
    "If you look at the top of the dataframe output above, there is a `DtypeWarning`. This applies to `Columns (79,80)`. So let's have a look at those to see what might be causing the warning, which I may need to fix if I want to use data from those columns:"
   ]
  },
  {
   "cell_type": "code",
   "execution_count": 3,
   "id": "concrete-medicaid",
   "metadata": {},
   "outputs": [
    {
     "data": {
      "text/html": [
       "<div>\n",
       "<style scoped>\n",
       "    .dataframe tbody tr th:only-of-type {\n",
       "        vertical-align: middle;\n",
       "    }\n",
       "\n",
       "    .dataframe tbody tr th {\n",
       "        vertical-align: top;\n",
       "    }\n",
       "\n",
       "    .dataframe thead th {\n",
       "        text-align: right;\n",
       "    }\n",
       "</style>\n",
       "<table border=\"1\" class=\"dataframe\">\n",
       "  <thead>\n",
       "    <tr style=\"text-align: right;\">\n",
       "      <th></th>\n",
       "      <th>B_match_weightclass_rank</th>\n",
       "      <th>R_match_weightclass_rank</th>\n",
       "    </tr>\n",
       "  </thead>\n",
       "  <tbody>\n",
       "    <tr>\n",
       "      <th>0</th>\n",
       "      <td>6</td>\n",
       "      <td>5</td>\n",
       "    </tr>\n",
       "    <tr>\n",
       "      <th>1</th>\n",
       "      <td>4</td>\n",
       "      <td>2</td>\n",
       "    </tr>\n",
       "    <tr>\n",
       "      <th>2</th>\n",
       "      <td>NaN</td>\n",
       "      <td>5</td>\n",
       "    </tr>\n",
       "    <tr>\n",
       "      <th>3</th>\n",
       "      <td>13</td>\n",
       "      <td>10</td>\n",
       "    </tr>\n",
       "    <tr>\n",
       "      <th>4</th>\n",
       "      <td>NaN</td>\n",
       "      <td>NaN</td>\n",
       "    </tr>\n",
       "    <tr>\n",
       "      <th>...</th>\n",
       "      <td>...</td>\n",
       "      <td>...</td>\n",
       "    </tr>\n",
       "    <tr>\n",
       "      <th>4561</th>\n",
       "      <td>NaN</td>\n",
       "      <td>NaN</td>\n",
       "    </tr>\n",
       "    <tr>\n",
       "      <th>4562</th>\n",
       "      <td>NaN</td>\n",
       "      <td>NaN</td>\n",
       "    </tr>\n",
       "    <tr>\n",
       "      <th>4563</th>\n",
       "      <td>NaN</td>\n",
       "      <td>NaN</td>\n",
       "    </tr>\n",
       "    <tr>\n",
       "      <th>4564</th>\n",
       "      <td>NaN</td>\n",
       "      <td>NaN</td>\n",
       "    </tr>\n",
       "    <tr>\n",
       "      <th>4565</th>\n",
       "      <td>NaN</td>\n",
       "      <td>NaN</td>\n",
       "    </tr>\n",
       "  </tbody>\n",
       "</table>\n",
       "<p>4566 rows × 2 columns</p>\n",
       "</div>"
      ],
      "text/plain": [
       "     B_match_weightclass_rank R_match_weightclass_rank\n",
       "0                           6                        5\n",
       "1                           4                        2\n",
       "2                         NaN                        5\n",
       "3                          13                       10\n",
       "4                         NaN                      NaN\n",
       "...                       ...                      ...\n",
       "4561                      NaN                      NaN\n",
       "4562                      NaN                      NaN\n",
       "4563                      NaN                      NaN\n",
       "4564                      NaN                      NaN\n",
       "4565                      NaN                      NaN\n",
       "\n",
       "[4566 rows x 2 columns]"
      ]
     },
     "execution_count": 3,
     "metadata": {},
     "output_type": "execute_result"
    }
   ],
   "source": [
    "# checking the columns mentioned in the warning above (I'm not interested in them, so not investigating further)\n",
    "df_orig.iloc[:, 79:81]"
   ]
  },
  {
   "cell_type": "markdown",
   "id": "60f050d7",
   "metadata": {},
   "source": [
    "The warning is caused by some observations in each column having different data times. This could be a problem, but as it happens I'm not interested in those columns, so will not investigate the warning further.\n",
    "\n",
    "I'd like to get an idea of what variables are in the dataset, to work out how I can investigate my research question:"
   ]
  },
  {
   "cell_type": "code",
   "execution_count": 4,
   "id": "liberal-johnson",
   "metadata": {},
   "outputs": [
    {
     "name": "stdout",
     "output_type": "stream",
     "text": [
      "137\n"
     ]
    },
    {
     "data": {
      "text/plain": [
       "Index(['R_fighter', 'B_fighter', 'R_odds', 'B_odds', 'R_ev', 'B_ev', 'date',\n",
       "       'location', 'country', 'Winner',\n",
       "       ...\n",
       "       'R_td_attempted_bout', 'B_td_attempted_bout', 'R_td_pct_bout',\n",
       "       'B_td_pct_bout', 'R_sub_attempts_bout', 'B_sub_attempts_bout',\n",
       "       'R_pass_bout', 'B_pass_bout', 'R_rev_bout', 'B_rev_bout'],\n",
       "      dtype='object', length=137)"
      ]
     },
     "execution_count": 4,
     "metadata": {},
     "output_type": "execute_result"
    }
   ],
   "source": [
    "# seeing what variables are in the dataset\n",
    "\n",
    "print(len(df_orig.columns))\n",
    "df_orig.columns"
   ]
  },
  {
   "cell_type": "markdown",
   "id": "686331bf",
   "metadata": {},
   "source": [
    "By default, pandas has truncated the output above, showing only a subset of the 137 variables in the dataset. I'd like to see all of them. To do this I can use:"
   ]
  },
  {
   "cell_type": "code",
   "execution_count": 5,
   "id": "crude-attribute",
   "metadata": {
    "scrolled": false
   },
   "outputs": [
    {
     "name": "stdout",
     "output_type": "stream",
     "text": [
      "R_fighter\n",
      "B_fighter\n",
      "R_odds\n",
      "B_odds\n",
      "R_ev\n",
      "B_ev\n",
      "date\n",
      "location\n",
      "country\n",
      "Winner\n",
      "title_bout\n",
      "weight_class\n",
      "gender\n",
      "no_of_rounds\n",
      "B_current_lose_streak\n",
      "B_current_win_streak\n",
      "B_draw\n",
      "B_avg_SIG_STR_landed\n",
      "B_avg_SIG_STR_pct\n",
      "B_avg_SUB_ATT\n",
      "B_avg_TD_landed\n",
      "B_avg_TD_pct\n",
      "B_longest_win_streak\n",
      "B_losses\n",
      "B_total_rounds_fought\n",
      "B_total_title_bouts\n",
      "B_win_by_Decision_Majority\n",
      "B_win_by_Decision_Split\n",
      "B_win_by_Decision_Unanimous\n",
      "B_win_by_KO/TKO\n",
      "B_win_by_Submission\n",
      "B_win_by_TKO_Doctor_Stoppage\n",
      "B_wins\n",
      "B_Stance\n",
      "B_Height_cms\n",
      "B_Reach_cms\n",
      "B_Weight_lbs\n",
      "R_current_lose_streak\n",
      "R_current_win_streak\n",
      "R_draw\n",
      "R_avg_SIG_STR_landed\n",
      "R_avg_SIG_STR_pct\n",
      "R_avg_SUB_ATT\n",
      "R_avg_TD_landed\n",
      "R_avg_TD_pct\n",
      "R_longest_win_streak\n",
      "R_losses\n",
      "R_total_rounds_fought\n",
      "R_total_title_bouts\n",
      "R_win_by_Decision_Majority\n",
      "R_win_by_Decision_Split\n",
      "R_win_by_Decision_Unanimous\n",
      "R_win_by_KO/TKO\n",
      "R_win_by_Submission\n",
      "R_win_by_TKO_Doctor_Stoppage\n",
      "R_wins\n",
      "R_Stance\n",
      "R_Height_cms\n",
      "R_Reach_cms\n",
      "R_Weight_lbs\n",
      "R_age\n",
      "B_age\n",
      "lose_streak_dif\n",
      "win_streak_dif\n",
      "longest_win_streak_dif\n",
      "win_dif\n",
      "loss_dif\n",
      "total_round_dif\n",
      "total_title_bout_dif\n",
      "ko_dif\n",
      "sub_dif\n",
      "height_dif\n",
      "reach_dif\n",
      "age_dif\n",
      "sig_str_dif\n",
      "avg_sub_att_dif\n",
      "avg_td_dif\n",
      "empty_arena\n",
      "constant_1\n",
      "B_match_weightclass_rank\n",
      "R_match_weightclass_rank\n",
      "R_Women's Flyweight_rank\n",
      "R_Women's Featherweight_rank\n",
      "R_Women's Strawweight_rank\n",
      "R_Women's Bantamweight_rank\n",
      "R_Heavyweight_rank\n",
      "R_Light Heavyweight_rank\n",
      "R_Middleweight_rank\n",
      "R_Welterweight_rank\n",
      "R_Lightweight_rank\n",
      "R_Featherweight_rank\n",
      "R_Bantamweight_rank\n",
      "R_Flyweight_rank\n",
      "R_Pound-for-Pound_rank\n",
      "B_Women's Flyweight_rank\n",
      "B_Women's Featherweight_rank\n",
      "B_Women's Strawweight_rank\n",
      "B_Women's Bantamweight_rank\n",
      "B_Heavyweight_rank\n",
      "B_Light Heavyweight_rank\n",
      "B_Middleweight_rank\n",
      "B_Welterweight_rank\n",
      "B_Lightweight_rank\n",
      "B_Featherweight_rank\n",
      "B_Bantamweight_rank\n",
      "B_Flyweight_rank\n",
      "B_Pound-for-Pound_rank\n",
      "better_rank\n",
      "finish\n",
      "finish_details\n",
      "finish_round\n",
      "finish_round_time\n",
      "total_fight_time_secs\n",
      "R_kd_bout\n",
      "B_kd_bout\n",
      "R_sig_str_landed_bout\n",
      "B_sig_str_landed_bout\n",
      "R_sig_str_attempted_bout\n",
      "B_sig_str_attempted_bout\n",
      "R_sig_str_pct_bout\n",
      "B_sig_str_pct_bout\n",
      "R_tot_str_landed_bout\n",
      "B_tot_str_landed_bout\n",
      "R_tot_str_attempted_bout\n",
      "B_tot_str_attempted_bout\n",
      "R_td_landed_bout\n",
      "B_td_landed_bout\n",
      "R_td_attempted_bout\n",
      "B_td_attempted_bout\n",
      "R_td_pct_bout\n",
      "B_td_pct_bout\n",
      "R_sub_attempts_bout\n",
      "B_sub_attempts_bout\n",
      "R_pass_bout\n",
      "B_pass_bout\n",
      "R_rev_bout\n",
      "B_rev_bout\n"
     ]
    }
   ],
   "source": [
    "# overcoming the truncation\n",
    "\n",
    "for i in df_orig.columns:\n",
    "    print(i)\n",
    "    \n",
    "# using list(df_orig.columns) would also work"
   ]
  },
  {
   "cell_type": "markdown",
   "id": "2658cf3e",
   "metadata": {},
   "source": [
    "Because I'm interested in whether the risk of knockout/technical knockout is greater for males or females in mixed martial arts\n",
    "contests, I'd like to calculate the proportion of contests which end in a knockout, and compare this for male and female athletes.\n",
    "\n",
    "So I extract just the variables I need, which for now are `gender` and `finish`. (`finish` contains information about how the contest ended: by judges' decision, by knockout, by submission etc.):"
   ]
  },
  {
   "cell_type": "code",
   "execution_count": 6,
   "id": "requested-basic",
   "metadata": {},
   "outputs": [
    {
     "data": {
      "text/html": [
       "<div>\n",
       "<style scoped>\n",
       "    .dataframe tbody tr th:only-of-type {\n",
       "        vertical-align: middle;\n",
       "    }\n",
       "\n",
       "    .dataframe tbody tr th {\n",
       "        vertical-align: top;\n",
       "    }\n",
       "\n",
       "    .dataframe thead th {\n",
       "        text-align: right;\n",
       "    }\n",
       "</style>\n",
       "<table border=\"1\" class=\"dataframe\">\n",
       "  <thead>\n",
       "    <tr style=\"text-align: right;\">\n",
       "      <th></th>\n",
       "      <th>gender</th>\n",
       "      <th>finish</th>\n",
       "    </tr>\n",
       "  </thead>\n",
       "  <tbody>\n",
       "    <tr>\n",
       "      <th>211</th>\n",
       "      <td>MALE</td>\n",
       "      <td>U-DEC</td>\n",
       "    </tr>\n",
       "    <tr>\n",
       "      <th>212</th>\n",
       "      <td>MALE</td>\n",
       "      <td>U-DEC</td>\n",
       "    </tr>\n",
       "    <tr>\n",
       "      <th>213</th>\n",
       "      <td>FEMALE</td>\n",
       "      <td>U-DEC</td>\n",
       "    </tr>\n",
       "    <tr>\n",
       "      <th>214</th>\n",
       "      <td>MALE</td>\n",
       "      <td>U-DEC</td>\n",
       "    </tr>\n",
       "    <tr>\n",
       "      <th>215</th>\n",
       "      <td>MALE</td>\n",
       "      <td>U-DEC</td>\n",
       "    </tr>\n",
       "    <tr>\n",
       "      <th>...</th>\n",
       "      <td>...</td>\n",
       "      <td>...</td>\n",
       "    </tr>\n",
       "    <tr>\n",
       "      <th>4561</th>\n",
       "      <td>MALE</td>\n",
       "      <td>KO/TKO</td>\n",
       "    </tr>\n",
       "    <tr>\n",
       "      <th>4562</th>\n",
       "      <td>MALE</td>\n",
       "      <td>KO/TKO</td>\n",
       "    </tr>\n",
       "    <tr>\n",
       "      <th>4563</th>\n",
       "      <td>MALE</td>\n",
       "      <td>KO/TKO</td>\n",
       "    </tr>\n",
       "    <tr>\n",
       "      <th>4564</th>\n",
       "      <td>MALE</td>\n",
       "      <td>U-DEC</td>\n",
       "    </tr>\n",
       "    <tr>\n",
       "      <th>4565</th>\n",
       "      <td>MALE</td>\n",
       "      <td>U-DEC</td>\n",
       "    </tr>\n",
       "  </tbody>\n",
       "</table>\n",
       "<p>4118 rows × 2 columns</p>\n",
       "</div>"
      ],
      "text/plain": [
       "      gender  finish\n",
       "211     MALE   U-DEC\n",
       "212     MALE   U-DEC\n",
       "213   FEMALE   U-DEC\n",
       "214     MALE   U-DEC\n",
       "215     MALE   U-DEC\n",
       "...      ...     ...\n",
       "4561    MALE  KO/TKO\n",
       "4562    MALE  KO/TKO\n",
       "4563    MALE  KO/TKO\n",
       "4564    MALE   U-DEC\n",
       "4565    MALE   U-DEC\n",
       "\n",
       "[4118 rows x 2 columns]"
      ]
     },
     "execution_count": 6,
     "metadata": {},
     "output_type": "execute_result"
    }
   ],
   "source": [
    "# creating a dataframe which contains only the variables I need\n",
    "df = df_orig[['gender','finish']].copy()\n",
    "\n",
    "df = df.dropna()\n",
    "        \n",
    "df"
   ]
  },
  {
   "cell_type": "markdown",
   "id": "5705ea2f",
   "metadata": {},
   "source": [
    "It's useful at this point to use the `.unique()` pandas method, to check what unique values are in each column (especially if you're dealing with categorical data, as we are here):"
   ]
  },
  {
   "cell_type": "code",
   "execution_count": 7,
   "id": "90cf43a8",
   "metadata": {},
   "outputs": [
    {
     "data": {
      "text/plain": [
       "array(['MALE', 'FEMALE'], dtype=object)"
      ]
     },
     "execution_count": 7,
     "metadata": {},
     "output_type": "execute_result"
    }
   ],
   "source": [
    "df['gender'].unique()"
   ]
  },
  {
   "cell_type": "code",
   "execution_count": 8,
   "id": "244beb60",
   "metadata": {},
   "outputs": [
    {
     "data": {
      "text/plain": [
       "array(['U-DEC', 'SUB', 'S-DEC', 'KO/TKO', 'M-DEC', 'DQ', 'Overturned'],\n",
       "      dtype=object)"
      ]
     },
     "execution_count": 8,
     "metadata": {},
     "output_type": "execute_result"
    }
   ],
   "source": [
    "df['finish'].unique()"
   ]
  },
  {
   "cell_type": "markdown",
   "id": "cf3422af",
   "metadata": {},
   "source": [
    "Looking at the unique values in each column is useful for a few reasons. It lets us check if there are mixed datatypes (or nan values). If there are, we will probably need to clean the columns, as mixed data types can cause errors (e.g. if a function expects a certain data type, it will not work on mixed data. This would be be a problem if we wanted to analyse data from the two columns mentioned in the `DtypeWarning` earlier in the notebook). \n",
    "\n",
    "Checking the unique values in a column also let's us look for data entry errors (misspellings etc.), which in this case might cause us to miscount the number of knockouts etc. if some of the entries are misspelled.\n",
    "\n",
    "In this case the values look fine, so I can proceed to making separate dataframes, one for the female athletes and one for the male athletes:"
   ]
  },
  {
   "cell_type": "code",
   "execution_count": 9,
   "id": "legislative-oliver",
   "metadata": {},
   "outputs": [
    {
     "data": {
      "text/html": [
       "<div>\n",
       "<style scoped>\n",
       "    .dataframe tbody tr th:only-of-type {\n",
       "        vertical-align: middle;\n",
       "    }\n",
       "\n",
       "    .dataframe tbody tr th {\n",
       "        vertical-align: top;\n",
       "    }\n",
       "\n",
       "    .dataframe thead th {\n",
       "        text-align: right;\n",
       "    }\n",
       "</style>\n",
       "<table border=\"1\" class=\"dataframe\">\n",
       "  <thead>\n",
       "    <tr style=\"text-align: right;\">\n",
       "      <th></th>\n",
       "      <th>gender</th>\n",
       "      <th>finish</th>\n",
       "    </tr>\n",
       "  </thead>\n",
       "  <tbody>\n",
       "    <tr>\n",
       "      <th>213</th>\n",
       "      <td>FEMALE</td>\n",
       "      <td>U-DEC</td>\n",
       "    </tr>\n",
       "    <tr>\n",
       "      <th>216</th>\n",
       "      <td>FEMALE</td>\n",
       "      <td>SUB</td>\n",
       "    </tr>\n",
       "    <tr>\n",
       "      <th>219</th>\n",
       "      <td>FEMALE</td>\n",
       "      <td>SUB</td>\n",
       "    </tr>\n",
       "    <tr>\n",
       "      <th>223</th>\n",
       "      <td>FEMALE</td>\n",
       "      <td>KO/TKO</td>\n",
       "    </tr>\n",
       "    <tr>\n",
       "      <th>225</th>\n",
       "      <td>FEMALE</td>\n",
       "      <td>U-DEC</td>\n",
       "    </tr>\n",
       "    <tr>\n",
       "      <th>...</th>\n",
       "      <td>...</td>\n",
       "      <td>...</td>\n",
       "    </tr>\n",
       "    <tr>\n",
       "      <th>3542</th>\n",
       "      <td>FEMALE</td>\n",
       "      <td>S-DEC</td>\n",
       "    </tr>\n",
       "    <tr>\n",
       "      <th>3559</th>\n",
       "      <td>FEMALE</td>\n",
       "      <td>U-DEC</td>\n",
       "    </tr>\n",
       "    <tr>\n",
       "      <th>3610</th>\n",
       "      <td>FEMALE</td>\n",
       "      <td>KO/TKO</td>\n",
       "    </tr>\n",
       "    <tr>\n",
       "      <th>3628</th>\n",
       "      <td>FEMALE</td>\n",
       "      <td>KO/TKO</td>\n",
       "    </tr>\n",
       "    <tr>\n",
       "      <th>3673</th>\n",
       "      <td>FEMALE</td>\n",
       "      <td>SUB</td>\n",
       "    </tr>\n",
       "  </tbody>\n",
       "</table>\n",
       "<p>379 rows × 2 columns</p>\n",
       "</div>"
      ],
      "text/plain": [
       "      gender  finish\n",
       "213   FEMALE   U-DEC\n",
       "216   FEMALE     SUB\n",
       "219   FEMALE     SUB\n",
       "223   FEMALE  KO/TKO\n",
       "225   FEMALE   U-DEC\n",
       "...      ...     ...\n",
       "3542  FEMALE   S-DEC\n",
       "3559  FEMALE   U-DEC\n",
       "3610  FEMALE  KO/TKO\n",
       "3628  FEMALE  KO/TKO\n",
       "3673  FEMALE     SUB\n",
       "\n",
       "[379 rows x 2 columns]"
      ]
     },
     "metadata": {},
     "output_type": "display_data"
    }
   ],
   "source": [
    "# creating a dataframe of just female athletes\n",
    "female = df[df['gender'] == 'FEMALE'].copy()\n",
    "\n",
    "display(female)"
   ]
  },
  {
   "cell_type": "code",
   "execution_count": 10,
   "id": "28f55d49",
   "metadata": {},
   "outputs": [
    {
     "data": {
      "text/html": [
       "<div>\n",
       "<style scoped>\n",
       "    .dataframe tbody tr th:only-of-type {\n",
       "        vertical-align: middle;\n",
       "    }\n",
       "\n",
       "    .dataframe tbody tr th {\n",
       "        vertical-align: top;\n",
       "    }\n",
       "\n",
       "    .dataframe thead th {\n",
       "        text-align: right;\n",
       "    }\n",
       "</style>\n",
       "<table border=\"1\" class=\"dataframe\">\n",
       "  <thead>\n",
       "    <tr style=\"text-align: right;\">\n",
       "      <th></th>\n",
       "      <th>gender</th>\n",
       "      <th>finish</th>\n",
       "    </tr>\n",
       "  </thead>\n",
       "  <tbody>\n",
       "    <tr>\n",
       "      <th>211</th>\n",
       "      <td>MALE</td>\n",
       "      <td>U-DEC</td>\n",
       "    </tr>\n",
       "    <tr>\n",
       "      <th>212</th>\n",
       "      <td>MALE</td>\n",
       "      <td>U-DEC</td>\n",
       "    </tr>\n",
       "    <tr>\n",
       "      <th>214</th>\n",
       "      <td>MALE</td>\n",
       "      <td>U-DEC</td>\n",
       "    </tr>\n",
       "    <tr>\n",
       "      <th>215</th>\n",
       "      <td>MALE</td>\n",
       "      <td>U-DEC</td>\n",
       "    </tr>\n",
       "    <tr>\n",
       "      <th>217</th>\n",
       "      <td>MALE</td>\n",
       "      <td>U-DEC</td>\n",
       "    </tr>\n",
       "    <tr>\n",
       "      <th>...</th>\n",
       "      <td>...</td>\n",
       "      <td>...</td>\n",
       "    </tr>\n",
       "    <tr>\n",
       "      <th>4561</th>\n",
       "      <td>MALE</td>\n",
       "      <td>KO/TKO</td>\n",
       "    </tr>\n",
       "    <tr>\n",
       "      <th>4562</th>\n",
       "      <td>MALE</td>\n",
       "      <td>KO/TKO</td>\n",
       "    </tr>\n",
       "    <tr>\n",
       "      <th>4563</th>\n",
       "      <td>MALE</td>\n",
       "      <td>KO/TKO</td>\n",
       "    </tr>\n",
       "    <tr>\n",
       "      <th>4564</th>\n",
       "      <td>MALE</td>\n",
       "      <td>U-DEC</td>\n",
       "    </tr>\n",
       "    <tr>\n",
       "      <th>4565</th>\n",
       "      <td>MALE</td>\n",
       "      <td>U-DEC</td>\n",
       "    </tr>\n",
       "  </tbody>\n",
       "</table>\n",
       "<p>3739 rows × 2 columns</p>\n",
       "</div>"
      ],
      "text/plain": [
       "     gender  finish\n",
       "211    MALE   U-DEC\n",
       "212    MALE   U-DEC\n",
       "214    MALE   U-DEC\n",
       "215    MALE   U-DEC\n",
       "217    MALE   U-DEC\n",
       "...     ...     ...\n",
       "4561   MALE  KO/TKO\n",
       "4562   MALE  KO/TKO\n",
       "4563   MALE  KO/TKO\n",
       "4564   MALE   U-DEC\n",
       "4565   MALE   U-DEC\n",
       "\n",
       "[3739 rows x 2 columns]"
      ]
     },
     "metadata": {},
     "output_type": "display_data"
    }
   ],
   "source": [
    "# another dataframe for just male athletes\n",
    "male = df[df['gender'] == 'MALE'].copy()\n",
    "\n",
    "display(male)"
   ]
  },
  {
   "cell_type": "markdown",
   "id": "fc76bfc9",
   "metadata": {},
   "source": [
    "## Specifying and testing hypotheses\n",
    "\n",
    "Remember, the research question for this analysis is:\n",
    "\n",
    "> <i> 'Is mixed martial arts more dangerous, with regard to serious head trauma, for males or females?' </i>\n",
    "\n",
    "So let's begin by specifying our null hypothesis:\n",
    "\n",
    "$h_0$ : the proportion of contests ending via knockout is the same for males and females\n",
    "\n",
    "and our alternate hypothesis:\n",
    "\n",
    "$h_1$ : the proportion of contests ending via knockout is <b> not </b> the same for males and females\n",
    "\n",
    "\n",
    "Let's think about what these hypotheses mean. If the null hypothesis is true, then an athlete's gender has no relationship to their risk of getting knocked out: our best bet for predicting an indvidual's risk of getting knocked out is the *overall* proportion of contests that end via knockout.\n",
    "\n",
    "If the alternate hypothesis is true, then an athlete's gender has a predictive relationship to their risk of getting knocked out: our best bet for predicting an indvidual's risk of getting knocked out is the proportion of contests *involving athletes of that gender* that end via knockout.\n",
    "\n",
    "Put another way, let's call the proportion of all fights which end in knockouts, regardless of the gender of the competitors, the *unconditional knockout risk*. Let's call the proportion of male fights ending by knockout the *conditional male knockout risk*. And let's call the proportion of female fights ending by knockout the *conditional male knockout risk*. \n",
    "\n",
    "The null hypothesis states gender is not a significant predictor of knockout risk, so the *conditional male knockout risk* and the *conditional female knockout risk* should both equal the *unconditional knockout risk*.\n",
    "\n",
    "The alternate hypothesis states that at least one of the conditional risks is NOT equal to the unconditional knockout risk. E.g. gender is a significant predictor of knockout risk.\n",
    "\n",
    "I'm going to use the `np.count_nonzero()` function to calculate these proportions, and print them out, to get an idea of which hypothesis might be correct:"
   ]
  },
  {
   "cell_type": "code",
   "execution_count": 11,
   "id": "subtle-yield",
   "metadata": {},
   "outputs": [
    {
     "name": "stdout",
     "output_type": "stream",
     "text": [
      "Contests ended in (technical) knockouts 31.738708110733366 % of the time.\n",
      "Female contests ended in (technical) knockouts 17.41424802110818 % of the time.\n",
      "Male contests ended in (technical) knockouts 33.19069269858251 % of the time.\n"
     ]
    }
   ],
   "source": [
    "# calculating the proportion of contests ending via knockout, regardless of gender\n",
    "unconditional_ko_proportion = np.count_nonzero(df['finish'] == 'KO/TKO')/len(df)\n",
    "\n",
    "# printing out the overall proportion of knockouts, regardless of gender\n",
    "print('Contests ended in (technical) knockouts', unconditional_ko_proportion*100, '% of the time.')\n",
    "\n",
    "# calculating the proportion of contests ending via knockout for female contestants\n",
    "female_ko_proportion = np.count_nonzero(female['finish'] == 'KO/TKO')/len(female)\n",
    "\n",
    "# printing out the female KO proportion\n",
    "print('Female contests ended in (technical) knockouts', female_ko_proportion*100, '% of the time.')\n",
    "\n",
    "# calculating the proportion of contests ending via knockout for male contestants\n",
    "male_ko_proportion = np.count_nonzero(male['finish'] == 'KO/TKO')/len(male)\n",
    "\n",
    "# printing out the male KO proportion\n",
    "print('Male contests ended in (technical) knockouts', male_ko_proportion*100, '% of the time.')"
   ]
  },
  {
   "cell_type": "markdown",
   "id": "a57309fc",
   "metadata": {},
   "source": [
    "At a first pass, it looks like MMA, based on this dataset, might carry a larger risk of head trauma for male athletes.\n",
    "\n",
    "Let's illustrate that graphically, using the proportions just calculated:"
   ]
  },
  {
   "cell_type": "code",
   "execution_count": 12,
   "id": "falling-mistress",
   "metadata": {},
   "outputs": [
    {
     "data": {
      "text/plain": [
       "Text(0.5, 1.0, 'Percentage of figts ending via KO or TKO')"
      ]
     },
     "execution_count": 12,
     "metadata": {},
     "output_type": "execute_result"
    },
    {
     "data": {
      "image/png": "[encoded data removed]",
      "text/plain": [
       "<Figure size 432x288 with 1 Axes>"
      ]
     },
     "metadata": {
      "needs_background": "light"
     },
     "output_type": "display_data"
    }
   ],
   "source": [
    "plt.bar(['Female', 'Male'], [female_ko_proportion*100, male_ko_proportion*100], color = ['red', 'blue'])\n",
    "plt.ylabel('%')\n",
    "plt.title('Percentage of figts ending via KO or TKO')"
   ]
  },
  {
   "cell_type": "markdown",
   "id": "1681f727",
   "metadata": {},
   "source": [
    "Again, from the graph, it certainly looks like the risk of knockout is greater for male fighters.\n",
    "\n",
    "Before performing any further analyses, we will need a summary statistic of this effect.\n",
    "\n",
    "One option is the *risk difference*, which is just the difference in the proportions (the proportion of female KOs minus the proportion of male KOs, or vice versa):"
   ]
  },
  {
   "cell_type": "code",
   "execution_count": 13,
   "id": "advanced-junction",
   "metadata": {},
   "outputs": [
    {
     "name": "stdout",
     "output_type": "stream",
     "text": [
      "-0.15776444677474327\n"
     ]
    }
   ],
   "source": [
    "# calculating the risk difference\n",
    "risk_difference = female_ko_proportion - male_ko_proportion\n",
    "print(risk_difference)"
   ]
  },
  {
   "cell_type": "markdown",
   "id": "9c9b6e5c",
   "metadata": {},
   "source": [
    "So, there is about 15.7% greater risk of being knocked out for males, relative to females.\n",
    "\n",
    "Could this effect be fluke though? E.g. consider the whole population of interest, which is all MMA fights in all organizations, rather than just the ones in this dataset; which are from one organization. You can think of the fights in this dataset as a subset of that wider population of all MMA fights.\n",
    "\n",
    "If there is no greater risk of being knocked out, given being male, in that population, then the effect in this dataset must be a fluke (e.g. an effect/pattern in a sample that is not reflective of the pattern in the underlying population). \n",
    "\n",
    "Statistical tests - like t-tests, ANOVAs, permutation tests etc. - allow us to estimate the probability of observing an effect as large as the one we observed if we were sampling from a population where in fact there was no effect.\n",
    "\n",
    "We will use the now familiar permutation test:"
   ]
  },
  {
   "cell_type": "code",
   "execution_count": 14,
   "id": "intended-category",
   "metadata": {},
   "outputs": [],
   "source": [
    "# permutation testing the risk difference \n",
    "\n",
    "# setting the number of iterations\n",
    "n_iters = 10000\n",
    "\n",
    "# copying the dataframe for the simulation, to avoid overwriting the original data\n",
    "df_sim = df.copy()\n",
    "\n",
    "# creating an array to store the results of the simulation\n",
    "simulation_results = np.zeros(n_iters)\n",
    "\n",
    "# a for loop reading, 'for 10000 repeats...'\n",
    "for i in np.arange(n_iters):\n",
    "    \n",
    "    # shuffling the finishes around, removing any association between finish type and gender\n",
    "    df_sim['finish'] = np.random.permutation(df_sim['finish'])\n",
    "    \n",
    "    # creating a separate dataframe for female athletes, from the shuffled data\n",
    "    fake_female = df_sim[df_sim['gender'] == 'FEMALE']\n",
    "    \n",
    "    # creating a separate dataframe for male athletes, from the shuffled data\n",
    "    fake_male = df_sim[df_sim['gender'] == 'MALE']\n",
    "    \n",
    "    # calculating the female KO proportion, from the shuffled data\n",
    "    fake_female_ko_proportion = np.count_nonzero(fake_female['finish'] == 'KO/TKO')/len(fake_female)\n",
    "    \n",
    "    # calculating the male KO proportion, from the shuffled data\n",
    "    fake_male_ko_proportion = np.count_nonzero(fake_male['finish'] == 'KO/TKO')/len(fake_male)\n",
    "    \n",
    "    # calculating the risk difference, from the shuffled data\n",
    "    fake_risk_difference = fake_female_ko_proportion - fake_male_ko_proportion\n",
    "    \n",
    "    # putting the simulated risk difference in the results array\n",
    "    simulation_results[i] = fake_risk_difference\n"
   ]
  },
  {
   "cell_type": "code",
   "execution_count": 15,
   "id": "large-interview",
   "metadata": {},
   "outputs": [
    {
     "data": {
      "image/png": "[encoded data removed]",
      "text/plain": [
       "<Figure size 432x288 with 1 Axes>"
      ]
     },
     "metadata": {
      "needs_background": "light"
     },
     "output_type": "display_data"
    },
    {
     "name": "stdout",
     "output_type": "stream",
     "text": [
      "P = 0.0\n"
     ]
    }
   ],
   "source": [
    "# plotting the simulated risk differences along with the actual risk difference\n",
    "plt.hist(simulation_results)\n",
    "plt.xlabel('Simulated Risk Differences')\n",
    "plt.ylabel('Frequency')\n",
    "plt.axvline(risk_difference, color = 'red', label = 'actual risk difference')\n",
    "plt.legend()\n",
    "plt.show()\n",
    "\n",
    "# calculating a p-value (the probability of getting our result, if the null hypothesis was true)\n",
    "p_value = np.count_nonzero(simulation_results >= np.abs(risk_difference))/len(simulation_results)\n",
    "print('P =', p_value)"
   ]
  },
  {
   "cell_type": "markdown",
   "id": "6b9f51a9",
   "metadata": {},
   "source": [
    "So it seems we can be confident that there is a real effect here: the risk of being knocked out is higher for males, and the risk difference is statistically significant, based on the permutation test.\n",
    "\n",
    "But is being male the actual risk factor, or could it be something that correlates with being male that increases the risk of knockout, rather than being male per se? "
   ]
  },
  {
   "cell_type": "markdown",
   "id": "41517f23",
   "metadata": {},
   "source": [
    "## Investigating potential confounding variables\n",
    "\n",
    "To test competing explanations of the significant risk difference we can try and use *statistical control*. This is where we try to eliminate the influence of other factors, and see if the effect remains. E.g. we want to rule out explanations which say that an additional confounding variable explains the association between knockout risk and being male, rather than being male per se being the risk factor.\n",
    "\n",
    "For instance, does the risk difference we just calculated remain if we factor in weight class? From inspecting the unique weight class values we can see that women compete in lower weight classes e.g. there is not a \"Women's Heavyweight\" etc. weight class. \n",
    "\n",
    "Maybe the increased risk of knockout could be explained by weight, rather than gender?:"
   ]
  },
  {
   "cell_type": "code",
   "execution_count": 16,
   "id": "aboriginal-guyana",
   "metadata": {},
   "outputs": [
    {
     "data": {
      "text/plain": [
       "array(['Heavyweight', 'Bantamweight', 'Flyweight', 'Lightweight',\n",
       "       'Light Heavyweight', \"Women's Flyweight\", 'Featherweight',\n",
       "       'Middleweight', \"Women's Strawweight\", \"Women's Bantamweight\",\n",
       "       'Catch Weight', 'Welterweight', \"Women's Featherweight\"],\n",
       "      dtype=object)"
      ]
     },
     "execution_count": 16,
     "metadata": {},
     "output_type": "execute_result"
    }
   ],
   "source": [
    "# looking at the weight classes\n",
    "df_orig['weight_class'].unique()"
   ]
  },
  {
   "cell_type": "markdown",
   "id": "ee630ccf",
   "metadata": {},
   "source": [
    "If we control for weight, does the significant risk difference remain? One way of testing this is to perform the permutation test within a weight class that both males and females compete in, so weight is held roughly equal, and we can get some evidence about whether the risk difference is due to gender or due to males tending to compete in heavier weight classes.\n",
    "\n",
    "Let's use the bantamweight weight class, as there is both a male and female bantamweight class, based on the array shown in the output of the cell above."
   ]
  },
  {
   "cell_type": "code",
   "execution_count": 17,
   "id": "numeric-processor",
   "metadata": {},
   "outputs": [
    {
     "data": {
      "text/html": [
       "<div>\n",
       "<style scoped>\n",
       "    .dataframe tbody tr th:only-of-type {\n",
       "        vertical-align: middle;\n",
       "    }\n",
       "\n",
       "    .dataframe tbody tr th {\n",
       "        vertical-align: top;\n",
       "    }\n",
       "\n",
       "    .dataframe thead th {\n",
       "        text-align: right;\n",
       "    }\n",
       "</style>\n",
       "<table border=\"1\" class=\"dataframe\">\n",
       "  <thead>\n",
       "    <tr style=\"text-align: right;\">\n",
       "      <th></th>\n",
       "      <th>gender</th>\n",
       "      <th>finish</th>\n",
       "      <th>weight_class</th>\n",
       "    </tr>\n",
       "  </thead>\n",
       "  <tbody>\n",
       "    <tr>\n",
       "      <th>271</th>\n",
       "      <td>FEMALE</td>\n",
       "      <td>U-DEC</td>\n",
       "      <td>Women's Bantamweight</td>\n",
       "    </tr>\n",
       "    <tr>\n",
       "      <th>308</th>\n",
       "      <td>FEMALE</td>\n",
       "      <td>U-DEC</td>\n",
       "      <td>Women's Bantamweight</td>\n",
       "    </tr>\n",
       "    <tr>\n",
       "      <th>323</th>\n",
       "      <td>FEMALE</td>\n",
       "      <td>U-DEC</td>\n",
       "      <td>Women's Bantamweight</td>\n",
       "    </tr>\n",
       "    <tr>\n",
       "      <th>340</th>\n",
       "      <td>FEMALE</td>\n",
       "      <td>KO/TKO</td>\n",
       "      <td>Women's Bantamweight</td>\n",
       "    </tr>\n",
       "    <tr>\n",
       "      <th>383</th>\n",
       "      <td>FEMALE</td>\n",
       "      <td>U-DEC</td>\n",
       "      <td>Women's Bantamweight</td>\n",
       "    </tr>\n",
       "    <tr>\n",
       "      <th>...</th>\n",
       "      <td>...</td>\n",
       "      <td>...</td>\n",
       "      <td>...</td>\n",
       "    </tr>\n",
       "    <tr>\n",
       "      <th>3542</th>\n",
       "      <td>FEMALE</td>\n",
       "      <td>S-DEC</td>\n",
       "      <td>Women's Bantamweight</td>\n",
       "    </tr>\n",
       "    <tr>\n",
       "      <th>3559</th>\n",
       "      <td>FEMALE</td>\n",
       "      <td>U-DEC</td>\n",
       "      <td>Women's Bantamweight</td>\n",
       "    </tr>\n",
       "    <tr>\n",
       "      <th>3610</th>\n",
       "      <td>FEMALE</td>\n",
       "      <td>KO/TKO</td>\n",
       "      <td>Women's Bantamweight</td>\n",
       "    </tr>\n",
       "    <tr>\n",
       "      <th>3628</th>\n",
       "      <td>FEMALE</td>\n",
       "      <td>KO/TKO</td>\n",
       "      <td>Women's Bantamweight</td>\n",
       "    </tr>\n",
       "    <tr>\n",
       "      <th>3673</th>\n",
       "      <td>FEMALE</td>\n",
       "      <td>SUB</td>\n",
       "      <td>Women's Bantamweight</td>\n",
       "    </tr>\n",
       "  </tbody>\n",
       "</table>\n",
       "<p>131 rows × 3 columns</p>\n",
       "</div>"
      ],
      "text/plain": [
       "      gender  finish          weight_class\n",
       "271   FEMALE   U-DEC  Women's Bantamweight\n",
       "308   FEMALE   U-DEC  Women's Bantamweight\n",
       "323   FEMALE   U-DEC  Women's Bantamweight\n",
       "340   FEMALE  KO/TKO  Women's Bantamweight\n",
       "383   FEMALE   U-DEC  Women's Bantamweight\n",
       "...      ...     ...                   ...\n",
       "3542  FEMALE   S-DEC  Women's Bantamweight\n",
       "3559  FEMALE   U-DEC  Women's Bantamweight\n",
       "3610  FEMALE  KO/TKO  Women's Bantamweight\n",
       "3628  FEMALE  KO/TKO  Women's Bantamweight\n",
       "3673  FEMALE     SUB  Women's Bantamweight\n",
       "\n",
       "[131 rows x 3 columns]"
      ]
     },
     "metadata": {},
     "output_type": "display_data"
    },
    {
     "data": {
      "text/html": [
       "<div>\n",
       "<style scoped>\n",
       "    .dataframe tbody tr th:only-of-type {\n",
       "        vertical-align: middle;\n",
       "    }\n",
       "\n",
       "    .dataframe tbody tr th {\n",
       "        vertical-align: top;\n",
       "    }\n",
       "\n",
       "    .dataframe thead th {\n",
       "        text-align: right;\n",
       "    }\n",
       "</style>\n",
       "<table border=\"1\" class=\"dataframe\">\n",
       "  <thead>\n",
       "    <tr style=\"text-align: right;\">\n",
       "      <th></th>\n",
       "      <th>gender</th>\n",
       "      <th>finish</th>\n",
       "      <th>weight_class</th>\n",
       "    </tr>\n",
       "  </thead>\n",
       "  <tbody>\n",
       "    <tr>\n",
       "      <th>221</th>\n",
       "      <td>MALE</td>\n",
       "      <td>S-DEC</td>\n",
       "      <td>Bantamweight</td>\n",
       "    </tr>\n",
       "    <tr>\n",
       "      <th>231</th>\n",
       "      <td>MALE</td>\n",
       "      <td>KO/TKO</td>\n",
       "      <td>Bantamweight</td>\n",
       "    </tr>\n",
       "    <tr>\n",
       "      <th>233</th>\n",
       "      <td>MALE</td>\n",
       "      <td>U-DEC</td>\n",
       "      <td>Bantamweight</td>\n",
       "    </tr>\n",
       "    <tr>\n",
       "      <th>256</th>\n",
       "      <td>MALE</td>\n",
       "      <td>KO/TKO</td>\n",
       "      <td>Bantamweight</td>\n",
       "    </tr>\n",
       "    <tr>\n",
       "      <th>273</th>\n",
       "      <td>MALE</td>\n",
       "      <td>U-DEC</td>\n",
       "      <td>Bantamweight</td>\n",
       "    </tr>\n",
       "    <tr>\n",
       "      <th>...</th>\n",
       "      <td>...</td>\n",
       "      <td>...</td>\n",
       "      <td>...</td>\n",
       "    </tr>\n",
       "    <tr>\n",
       "      <th>4310</th>\n",
       "      <td>MALE</td>\n",
       "      <td>S-DEC</td>\n",
       "      <td>Bantamweight</td>\n",
       "    </tr>\n",
       "    <tr>\n",
       "      <th>4329</th>\n",
       "      <td>MALE</td>\n",
       "      <td>U-DEC</td>\n",
       "      <td>Bantamweight</td>\n",
       "    </tr>\n",
       "    <tr>\n",
       "      <th>4332</th>\n",
       "      <td>MALE</td>\n",
       "      <td>U-DEC</td>\n",
       "      <td>Bantamweight</td>\n",
       "    </tr>\n",
       "    <tr>\n",
       "      <th>4346</th>\n",
       "      <td>MALE</td>\n",
       "      <td>U-DEC</td>\n",
       "      <td>Bantamweight</td>\n",
       "    </tr>\n",
       "    <tr>\n",
       "      <th>4374</th>\n",
       "      <td>MALE</td>\n",
       "      <td>SUB</td>\n",
       "      <td>Bantamweight</td>\n",
       "    </tr>\n",
       "  </tbody>\n",
       "</table>\n",
       "<p>417 rows × 3 columns</p>\n",
       "</div>"
      ],
      "text/plain": [
       "     gender  finish  weight_class\n",
       "221    MALE   S-DEC  Bantamweight\n",
       "231    MALE  KO/TKO  Bantamweight\n",
       "233    MALE   U-DEC  Bantamweight\n",
       "256    MALE  KO/TKO  Bantamweight\n",
       "273    MALE   U-DEC  Bantamweight\n",
       "...     ...     ...           ...\n",
       "4310   MALE   S-DEC  Bantamweight\n",
       "4329   MALE   U-DEC  Bantamweight\n",
       "4332   MALE   U-DEC  Bantamweight\n",
       "4346   MALE   U-DEC  Bantamweight\n",
       "4374   MALE     SUB  Bantamweight\n",
       "\n",
       "[417 rows x 3 columns]"
      ]
     },
     "metadata": {},
     "output_type": "display_data"
    }
   ],
   "source": [
    "# looking just at male and female bantamweights, to see if the risk difference in knockouts remains when weight is equal\n",
    "\n",
    "# creating a dataframe just containing the data for bantamweights\n",
    "bantamweights = df_orig[(df_orig['weight_class'] == \"Women's Bantamweight\") | (df_orig['weight_class'] == \"Bantamweight\")]\n",
    "\n",
    "bantamweights = bantamweights[['gender', 'finish', 'weight_class']]\n",
    "\n",
    "# dropping nan values\n",
    "bantamweights.dropna(inplace = True)\n",
    "\n",
    "#creating a dataframe for female bantamweights\n",
    "female_bantamweights = bantamweights[bantamweights['gender'] == 'FEMALE']\n",
    "\n",
    "#creating a dataframe for male bantamweights\n",
    "male_bantamweights = bantamweights[bantamweights['gender'] == 'MALE']\n",
    "\n",
    "display(female_bantamweights)\n",
    "display(male_bantamweights)"
   ]
  },
  {
   "cell_type": "code",
   "execution_count": 18,
   "id": "latin-remark",
   "metadata": {},
   "outputs": [
    {
     "name": "stdout",
     "output_type": "stream",
     "text": [
      "Bantamweight contests ended in (technical) knockouts 26.277372262773724 % of the time.\n",
      "Female bantamweight contests ended in (technical) knockouts 27.480916030534353 % of the time.\n",
      "Male bantamweight contests ended in (technical) knockouts 25.899280575539567 % of the time.\n"
     ]
    }
   ],
   "source": [
    "# caclulating the KO proportions for bantamweights\n",
    "\n",
    "crude_ko_proportion_bantamweights = np.count_nonzero(bantamweights['finish'] == 'KO/TKO')/len(bantamweights)\n",
    "\n",
    "print('Bantamweight contests ended in (technical) knockouts', crude_ko_proportion_bantamweights*100, '% of the time.')\n",
    "\n",
    "female_ko_proportion_bantamweights = np.count_nonzero(female_bantamweights['finish'] == 'KO/TKO')/len(female_bantamweights)\n",
    "\n",
    "print('Female bantamweight contests ended in (technical) knockouts', female_ko_proportion_bantamweights*100, '% of the time.')\n",
    "\n",
    "male_ko_proportion_bantamweights = np.count_nonzero(male_bantamweights['finish'] == 'KO/TKO')/len(male_bantamweights)\n",
    "\n",
    "print('Male bantamweight contests ended in (technical) knockouts', male_ko_proportion_bantamweights*100, '% of the time.')"
   ]
  },
  {
   "cell_type": "markdown",
   "id": "03cc89d5",
   "metadata": {},
   "source": [
    "It appears that, at least for this weight class, when we control for weight, the association between knockouts and gender reverses. Female bantamweights are more likely to get knocked out than male batamweights.\n",
    "\n",
    "\n",
    "Let's calculate the bantamweight risk difference:"
   ]
  },
  {
   "cell_type": "code",
   "execution_count": 19,
   "id": "jewish-belfast",
   "metadata": {},
   "outputs": [
    {
     "name": "stdout",
     "output_type": "stream",
     "text": [
      "0.015816354549947842\n"
     ]
    }
   ],
   "source": [
    "bantamweight_risk_difference = female_ko_proportion_bantamweights - male_ko_proportion_bantamweights\n",
    "print(bantamweight_risk_difference)"
   ]
  },
  {
   "cell_type": "markdown",
   "id": "c731a6da",
   "metadata": {},
   "source": [
    "OK, so female bantamweights are about 1.58% more likely to get knocked out than male bantamweights:"
   ]
  },
  {
   "cell_type": "code",
   "execution_count": 20,
   "id": "injured-legislation",
   "metadata": {},
   "outputs": [
    {
     "data": {
      "image/png": "[encoded data removed]",
      "text/plain": [
       "<Figure size 432x288 with 1 Axes>"
      ]
     },
     "metadata": {
      "needs_background": "light"
     },
     "output_type": "display_data"
    }
   ],
   "source": [
    "plt.bar(['Female', 'Male'], [female_ko_proportion_bantamweights*100, male_ko_proportion_bantamweights*100], color = ['red', 'blue'])\n",
    "plt.ylabel('%')\n",
    "plt.title('Percentage of bantamweight figts ending via KO or TKO')\n",
    "plt.show()"
   ]
  },
  {
   "cell_type": "markdown",
   "id": "6f5e7f05",
   "metadata": {},
   "source": [
    "We can again test if this difference is likely to be a fluke:"
   ]
  },
  {
   "cell_type": "code",
   "execution_count": 21,
   "id": "horizontal-designer",
   "metadata": {},
   "outputs": [],
   "source": [
    "# permutation testing the bantamweight risk difference\n",
    "\n",
    "# setting the number of iterations for the test\n",
    "n_iters = 10000\n",
    "\n",
    "# copying the bantamweights df, to avoid overwriting the original data\n",
    "bantamweights_sim = bantamweights.copy()\n",
    "\n",
    "# creating an array to store the results\n",
    "simulation_results = np.zeros(n_iters)\n",
    "\n",
    "# for loop for the simulation\n",
    "for i in np.arange(n_iters):\n",
    "    \n",
    "    # shuffling the finishes, removing any association between gender and finish type\n",
    "    bantamweights_sim['finish'] = np.random.permutation(bantamweights_sim['finish'])\n",
    "    \n",
    "    # a df for the shuffled female data\n",
    "    fake_female = bantamweights_sim[bantamweights_sim['gender'] == 'FEMALE']\n",
    "    \n",
    "    # a df for the shuffled male data\n",
    "    fake_male = bantamweights_sim[bantamweights_sim['gender'] == 'MALE']\n",
    "    \n",
    "    # female ko proportion from the shuffled data\n",
    "    fake_female_ko_proportion = np.count_nonzero(fake_female['finish'] == 'KO/TKO')/len(fake_female)\n",
    "    \n",
    "    # male ko proportion from the shuffled data\n",
    "    fake_male_ko_proportion = np.count_nonzero(fake_male['finish'] == 'KO/TKO')/len(fake_male)\n",
    "    \n",
    "    # simulated risk difference\n",
    "    fake_risk_difference = fake_female_ko_proportion - fake_male_ko_proportion\n",
    "    \n",
    "    # adding the simulated risk difference to the results array\n",
    "    simulation_results[i] = fake_risk_difference"
   ]
  },
  {
   "cell_type": "code",
   "execution_count": 22,
   "id": "lightweight-nevada",
   "metadata": {},
   "outputs": [
    {
     "data": {
      "image/png": "[encoded data removed]",
      "text/plain": [
       "<Figure size 432x288 with 1 Axes>"
      ]
     },
     "metadata": {
      "needs_background": "light"
     },
     "output_type": "display_data"
    },
    {
     "name": "stdout",
     "output_type": "stream",
     "text": [
      "P = 0.4105\n"
     ]
    }
   ],
   "source": [
    "# plotting the simulation results\n",
    "plt.hist(simulation_results)\n",
    "plt.xlabel('Simulated Risk Differences (Bantamweights)')\n",
    "plt.ylabel('Frequency')\n",
    "plt.axvline(bantamweight_risk_difference, markersize = 10, color = 'red') \n",
    "plt.show()\n",
    "\n",
    "# calculating a p-value (the probability of getting our result, if the null hypothesis was true e.g. there is no difference \n",
    "# in the population that the data was sample from, in this case, all bantamweight mma contests)\n",
    "p_value = np.count_nonzero(simulation_results >= np.abs(bantamweight_risk_difference))/len(simulation_results)\n",
    "print('P =', p_value)"
   ]
  },
  {
   "cell_type": "markdown",
   "id": "bigger-reliance",
   "metadata": {},
   "source": [
    "On the basis of this preliminary analysis, it appears that, within the same (bantamweight) weight class, males are not significantly more likely to be knocked out than females. It is therefore possible than the risk difference observed across all weight classes (males more likely to be knocked out) is due to weight, rather than to gender.\n",
    "\n",
    "## Summary\n",
    "\n",
    "This has been a brief tutorial on how to get a dataset from the internet, how to clean it, and how to begin analysing the data. It is not a complete analysis, there are many other hypotheses we could test (by testing within other weight classes for instance). But these would this notebook has shown the first steps in a data analysis: get the data, clean the data, specify hypotheses, test the hypotheses, test alternate explanations for the results..."
   ]
  },
  {
   "cell_type": "markdown",
   "id": "ca4fc1d3",
   "metadata": {},
   "source": [
    "## References\n",
    "\n",
    "Schlegel, P., Novotny, M., Valis, M., & Klimova, B. (2021). Head injury in mixed martial arts: a review of epidemiology, affected brain structures and risks of cognitive decline. The Physician and sportsmedicine, 49(4), 371-380. (https://www.tandfonline.com/doi/pdf/10.1080/00913847.2021.1885966?casa_token=hJMdEByhs68AAAAA:ER6lGZkkcWXlMr4czxbQ6db7KvrPrKZJ4SpR0wD6AGtjyJPMtxftqfoiLnt37QVYUCcvWaRmsCf6UA)"
   ]
  }
 ],
 "metadata": {
  "jupytext": {
   "formats": "Rmd,ipynb"
  },
  "kernelspec": {
   "display_name": "Python 3 (ipykernel)",
   "language": "python",
   "name": "python3"
  },
  "language_info": {
   "codemirror_mode": {
    "name": "ipython",
    "version": 3
   },
   "file_extension": ".py",
   "mimetype": "text/x-python",
   "name": "python",
   "nbconvert_exporter": "python",
   "pygments_lexer": "ipython3",
   "version": "3.7.11"
  }
 },
 "nbformat": 4,
 "nbformat_minor": 5
}
